{
 "cells": [
  {
   "cell_type": "code",
   "execution_count": 1,
   "metadata": {
    "collapsed": true
   },
   "outputs": [],
   "source": [
    "import requests\n",
    "import json\n",
    "import re\n",
    "from textblob import TextBlob"
   ]
  },
  {
   "cell_type": "code",
   "execution_count": 2,
   "metadata": {
    "collapsed": true
   },
   "outputs": [],
   "source": [
    "total_sentiment = 0\n",
    "def get_sentiment(player_articles):\n",
    "    # create TextBlob object of passed player text\n",
    "    analysis = TextBlob(player_articles)\n",
    "    #print (analysis.sentiment.polarity)\n",
    "    return analysis.sentiment.polarity\n",
    "    #total_sentiment = analysis.sentiment.polarity + total_sentiment\n",
    "    #print(total_sentiment)"
   ]
  },
  {
   "cell_type": "code",
   "execution_count": 3,
   "metadata": {
    "collapsed": true
   },
   "outputs": [],
   "source": [
    "def player_query(user_input):   \n",
    "    url = ()\n",
    "    api_url = 'https://newsapi.org/v2/everything?'\n",
    "    search_url = 'q=fantasy+football+nfl+'+user_input+'&'\n",
    "    date = 'from=2017-12-05&'\n",
    "    sort_by = 'sortBy=relevance&'\n",
    "    api_key = 'apiKey=0e584242425141bdbfa02d4d0af7f21b'\n",
    "\n",
    "    url = str((api_url + search_url + date + sort_by + api_key))\n",
    "    url = url.replace(',', '')\n",
    "\n",
    "    response = requests.get(url)\n",
    "    response = response.json()\n",
    "    #print(type(response))\n",
    "    total_sentiment = 0\n",
    "    for item in response['articles']:\n",
    "        sentiment = get_sentiment(str((item['title'], item['description'])))\n",
    "        total_sentiment = sentiment + total_sentiment\n",
    "    #print(total_sentiment) #Total Sentiment Value\n",
    "    #print(type(total_sentiment))\n",
    "    return total_sentiment    "
   ]
  },
  {
   "cell_type": "code",
   "execution_count": 6,
   "metadata": {},
   "outputs": [
    {
     "name": "stdout",
     "output_type": "stream",
     "text": [
      "Welcome to our Fantasy Football sentiment analysis program\n",
      "Enter the players you are considering and we will scour the internet and analyze the overall sentiments about them\n",
      "Enter a player name or type Quit to get the results: Doug Martin\n",
      "Enter a player name or type Quit to get the results: Rex Burkehead\n",
      "Enter a player name or type Quit to get the results: Frank Gore\n",
      "Enter a player name or type Quit to get the results: Quit\n",
      "Based on our analysis, Doug Martin gives you the best chance to win this week.\n"
     ]
    }
   ],
   "source": [
    "print('Welcome to our Fantasy Football sentiment analysis program')\n",
    "print('Enter the players you are considering and we will scour the internet and analyze the overall sentiments about them')\n",
    "player_compare = {}\n",
    "while True:\n",
    "    user_input = input('Enter a player name or type Quit to get the results: ')\n",
    "    user_inputf = user_input.replace(' ', '+')\n",
    "    if user_input == \"Quit\":\n",
    "        break\n",
    "    player_sentiment = (player_query(user_inputf))\n",
    "    player_dict = { user_input : player_sentiment }\n",
    "    player_compare.update(player_dict) \n",
    "    #print(player_compare)\n",
    "best = max(player_compare, key=player_compare.get)\n",
    "print('Based on our analysis, %s gives you the best chance to win this week.' % (best))        \n",
    "\n"
   ]
  },
  {
   "cell_type": "code",
   "execution_count": null,
   "metadata": {
    "collapsed": true
   },
   "outputs": [],
   "source": []
  }
 ],
 "metadata": {
  "kernelspec": {
   "display_name": "Python 3",
   "language": "python",
   "name": "python3"
  },
  "language_info": {
   "codemirror_mode": {
    "name": "ipython",
    "version": 3
   },
   "file_extension": ".py",
   "mimetype": "text/x-python",
   "name": "python",
   "nbconvert_exporter": "python",
   "pygments_lexer": "ipython3",
   "version": "3.6.1"
  }
 },
 "nbformat": 4,
 "nbformat_minor": 2
}
