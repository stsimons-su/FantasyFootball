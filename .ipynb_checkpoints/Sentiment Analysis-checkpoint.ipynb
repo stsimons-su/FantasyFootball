{
 "cells": [
  {
   "cell_type": "code",
   "execution_count": 1,
   "metadata": {
    "collapsed": true
   },
   "outputs": [],
   "source": [
    "import requests\n",
    "import json\n",
    "import re\n",
    "from textblob import TextBlob"
   ]
  },
  {
   "cell_type": "code",
   "execution_count": 2,
   "metadata": {
    "collapsed": true
   },
   "outputs": [],
   "source": [
    "total_sentiment = 0\n",
    "def get_sentiment(player_articles):\n",
    "    # create TextBlob object of passed player text\n",
    "    analysis = TextBlob(player_articles)\n",
    "    # set sentiment\n",
    "    #print (analysis.sentiment.polarity)\n",
    "    if analysis.sentiment.polarity > 0:\n",
    "        return analysis.sentiment.polarity\n",
    "    elif analysis.sentiment.polarity == 0:\n",
    "        return analysis.sentiment.polarity\n",
    "    else:\n",
    "        return analysis.sentiment.polarity\n",
    "    #total_sentiment = analysis.sentiment.polarity + total_sentiment\n",
    "    #print(total_sentiment)"
   ]
  },
  {
   "cell_type": "code",
   "execution_count": 18,
   "metadata": {},
   "outputs": [],
   "source": [
    "def player_query(user_input):   \n",
    "    url = ()\n",
    "    api_url = 'https://newsapi.org/v2/everything?'\n",
    "    search_url = 'q=fantasy+football+'+user_input+'&'\n",
    "    date = 'from=2017-12-05&'\n",
    "    sort_by = 'sortBy=relevance&'\n",
    "    api_key = 'apiKey=0e584242425141bdbfa02d4d0af7f21b'\n",
    "\n",
    "    url = str((api_url + search_url + date + sort_by + api_key))\n",
    "    url = url.replace(',', '')\n",
    "\n",
    "    response = requests.get(url)\n",
    "    response = response.json()\n",
    "    #print(type(response))\n",
    "    total_sentiment = 0\n",
    "    for item in response['articles']:\n",
    "        sentiment = get_sentiment(str((item['title'], item['description'])))\n",
    "        total_sentiment = sentiment + total_sentiment\n",
    "    #print(total_sentiment) #Total Sentiment Value\n",
    "    #print(type(total_sentiment))\n",
    "    return total_sentiment    "
   ]
  },
  {
   "cell_type": "code",
   "execution_count": 23,
   "metadata": {},
   "outputs": [
    {
     "name": "stdout",
     "output_type": "stream",
     "text": [
      "Enter a player name: Joe Mixon\n",
      "Enter a player name: Kareem Hunt\n",
      "Enter a player name: Carlos Hyde\n",
      "Enter a player name: Todd Gurley\n",
      "Enter a player name: Quit\n",
      "Based on our analysis, Kareem hunt gives you the best chance to win this week.\n"
     ]
    }
   ],
   "source": [
    "player_compare = {}\n",
    "while True:\n",
    "    user_input = input('Enter a player name: ')\n",
    "    user_inputf = user_input.replace(' ', '+')\n",
    "    if user_input == \"Quit\":\n",
    "        break\n",
    "    player_sentiment = (player_query(user_inputf))\n",
    "    player_dict = { user_input.capitalize() : player_sentiment }\n",
    "    player_compare.update(player_dict) \n",
    "    #print(player_compare)\n",
    "best = max(player_compare, key=player_compare.get)\n",
    "print('Based on our analysis, %s gives you the best chance to win this week.' % (best))\n",
    "#print(\"You should start Alex Collins this week. His score would be a 69\")        "
   ]
  },
  {
   "cell_type": "code",
   "execution_count": null,
   "metadata": {},
   "outputs": [],
   "source": []
  },
  {
   "cell_type": "code",
   "execution_count": null,
   "metadata": {
    "collapsed": true
   },
   "outputs": [],
   "source": []
  }
 ],
 "metadata": {
  "kernelspec": {
   "display_name": "Python 3",
   "language": "python",
   "name": "python3"
  },
  "language_info": {
   "codemirror_mode": {
    "name": "ipython",
    "version": 3
   },
   "file_extension": ".py",
   "mimetype": "text/x-python",
   "name": "python",
   "nbconvert_exporter": "python",
   "pygments_lexer": "ipython3",
   "version": "3.6.1"
  }
 },
 "nbformat": 4,
 "nbformat_minor": 2
}
