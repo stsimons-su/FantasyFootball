{
 "cells": [
  {
   "cell_type": "code",
   "execution_count": 5,
   "metadata": {},
   "outputs": [
    {
     "name": "stdout",
     "output_type": "stream",
     "text": [
      "<class 'dict'>\n",
      "Aaron Jones, Jamaal Williams pull off rare rookie 100-yard double play\n",
      "<class 'list'>\n",
      "Fantasy Football -- Week 14 rankings https://sports.yahoo.com/fantasy-football-week-14-rankings-001321039.html\n",
      "Aaron Jones, Jamaal Williams pull off rare rookie 100-yard double play http://www.espn.com/blog/nfcnorth/post/_/id/79817/aaron-jones-jamaal-williams-pull-off-rare-rookie-100-yard-double-play\n",
      "Fantasy Football Week 14: Giovani Bernard among Jamey Eisenberg's favorite sleeper RBs https://www.cbssports.com/fantasy/football/news/fantasy-football-week-14-giovani-bernard-among-jamey-eisenbergs-favorite-sleeper-rbs/\n",
      "Fantasy Football: The Playlist for Week 14 http://www.nydailynews.com/sports/football/fantasy-football-playlist-week-14-article-1.3688986\n",
      "Fantasy Football: Week 14 matchups to avoid and exploit http://www.profootballweekly.com/lists/2017/12/07/540ccd004ef740158f3681753c35a75a/index.xml\n",
      "Week 14 Fantasy Rankings: Running back http://www.sportingnews.com/fantasy/football/news/week-14-fantasy-rankings-rb-ameer-abdullah-injury-running-back-sleepers-adrian-peterson-doug-martin-start-sit-matchups-non-ppr-waiver-wire-pickups-ha/5lvfc2cm2vm31bdjjemp2chxb\n",
      "Fantasy Football Week 14 Rankings: Top Pickups After Latest Injuries http://bleacherreport.com/articles/2748331-fantasy-football-week-14-rankings-top-pickups-after-latest-injuries\n",
      "Fantasy football start/sit: Wide receivers to rely on in the playoffs - USA TODAY https://www.usatoday.com/story/sports/fantasy/2017/12/07/fantasy-football-start-sit-larry-fitzgerald-cam-newton/928656001/\n",
      "Fantasy Football: 5 unlikely NFC heroes in opening round of playoffs http://www.profootballweekly.com/lists/2017/12/08/bef75740bd0142788cdfe61ccac9b15f/index.xml\n",
      "Who To Start And Sit In Week 14 Of The 2017 Fantasy Football Season http://brobible.com/sports/article/2017-fantasy-football-week-14/\n",
      "Fantasy Football Week 14 Start 'Em, Sit 'Em - Sports Illustrated https://www.si.com/nfl/2017/12/07/fantasy-football-week-14-start-em-sit-em\n",
      "Fantasy Football Week 14 Rankings: Latest Position-by-Position Rundown http://bleacherreport.com/articles/2748172-fantasy-football-week-14-rankings-latest-position-by-position-rundown\n",
      "Fantasy Football Week 14: Sunday expert rankings update for QB, RB, WR, TE https://www.cbssports.com/fantasy/football/news/fantasy-football-week-14-sunday-expert-rankings-update-for-qb-rb-wr-te/\n",
      "Get your fantasy football playoffs started on the right foot by making sure these guys are in your lineup https://sportsday.dallasnews.com/dallas-cowboys/cowboys/2017/12/08/get-fantasy-football-playoffs-started-right-foot-making-sure-guys-lineup\n",
      "Fantasy Football Week 14 Rankings: Projections for Players with Matchups We Love http://bleacherreport.com/articles/2748224-fantasy-football-week-14-rankings-projections-for-players-with-matchups-we-love\n",
      "Top daily fantasy football plays for Week 14 of the NFL season https://www.sbnation.com/fantasy/2017/12/9/16754696/top-daily-fantasy-football-plays-for-week-14-of-the-nfl-season-alex-smith-lesean-mccoy-adam-thielen\n",
      "Fantasy Football Week 14 Lineup Cheat Sheet: Survive and advance in your playoff matchup with help from Matt Forte, Martavis Bryant and Dak Prescott https://www.cbssports.com/fantasy/football/news/fantasy-football-week-14-lineup-cheat-sheet-survive-and-advance-in-your-playoff-matchup-with-guys-like-matt-forte-martavis-bryant-and-dak-prescott/\n",
      "Love, Hate and the process http://www.espn.com/fantasy/football/story/_/page/TMRlovehate171207/fantasy-football-picks-sleepers-busts-week-14\n",
      "Matchups: Silva's Week 14 Matchups http://rotoworld.com/articles/nfl/76397/179/silvas-week-14-matchups\n",
      "Silva's Week 14 Matchups https://sports.yahoo.com/silvas-week-14-matchups-234700804--spt.html\n"
     ]
    }
   ],
   "source": [
    "import requests\n",
    "import json\n",
    "url = ('https://newsapi.org/v2/everything?'\n",
    "       'q=fantasy+football+jamaal+williams&'\n",
    "       'from=2017-12-07&'\n",
    "       'sortBy=relevance&'\n",
    "       'apiKey=0e584242425141bdbfa02d4d0af7f21b')\n",
    "type(url)\n",
    "response = requests.get(url)\n",
    "#response_json = json.loads(str(response))\n",
    "response = response.json()\n",
    "print(type(response))\n",
    "#print(response)\n",
    "print(response['articles'][1]['title'])\n",
    "print(type(response['articles']))\n",
    "for item in response['articles']:\n",
    "    print(item['title'], item['url'])"
   ]
  },
  {
   "cell_type": "code",
   "execution_count": 6,
   "metadata": {
    "collapsed": true
   },
   "outputs": [],
   "source": [
    "import re\n",
    "from textblob import TextBlob"
   ]
  },
  {
   "cell_type": "code",
   "execution_count": 7,
   "metadata": {
    "collapsed": true
   },
   "outputs": [],
   "source": [
    "def get_sentiment(player):\n",
    "    # create TextBlob object of passed tweet text\n",
    "    analysis = TextBlob(player)\n",
    "    # set sentiment\n",
    "    print (analysis.sentiment.polarity)\n",
    "    if analysis.sentiment.polarity > 0:\n",
    "        return 'positive'\n",
    "    elif analysis.sentiment.polarity == 0:\n",
    "        return 'neutral'\n",
    "    else:\n",
    "        return 'negative'"
   ]
  },
  {
   "cell_type": "code",
   "execution_count": 8,
   "metadata": {},
   "outputs": [
    {
     "name": "stdout",
     "output_type": "stream",
     "text": [
      "-0.6999999999999998\n"
     ]
    },
    {
     "data": {
      "text/plain": [
       "'negative'"
      ]
     },
     "execution_count": 8,
     "metadata": {},
     "output_type": "execute_result"
    }
   ],
   "source": [
    "get_sentiment(\"Life is bad\")"
   ]
  },
  {
   "cell_type": "code",
   "execution_count": 9,
   "metadata": {},
   "outputs": [
    {
     "name": "stdout",
     "output_type": "stream",
     "text": [
      "Enter a player name: Joe Mixon\n",
      "https://newsapi.org/v2/everything?q=fantasy+football+Joe+Mixon&from=2017-12-07&sortBy=relevance&apiKey=0e584242425141bdbfa02d4d0af7f21b\n",
      "<class 'dict'>\n",
      "Fantasy football, Week 14: Start or sit Bengals RB Giovani Bernard vs. Bears? With Joe Mixon out, Giovani Bernard is a sneaky play in Week 14.\n",
      "Fantasy Football Injury Updates: Joe Mixon, Doug Martin, Matthew Stafford, more affecting Week 14 rankings - Sporting News Sporting News Fantasy Football Injury Updates: Joe Mixon, Doug Martin, Matthew Stafford, more affecting Week 14 rankings Sporting News It's hard times for the Detroit Lions with Matthew Stafford and Ameer Abdullah battling through injuries, and Stafford could…\n",
      "Fantasy Football Week 14: Giovani Bernard among Jamey Eisenberg's favorite sleeper RBs With Joe Mixon (concussion) out, Jamey Eisenberg says Giovani Bernard can be a star in Week 14. Bernard is among the best sleeper running backs for the first week of the Fantasy playoffs.\n",
      "Fantasy football, Week 14: Full NFL injury report We run down all the notable injuries in Week 14 that could impact your fantasy football team.\n",
      "Fantasy football 2017: NFL Week 14 cheat sheet - Washington Post ESPN Fantasy football 2017: NFL Week 14 cheat sheet Washington Post Need some quick tips to assemble your fantasy lineup for Week 14? For most owners, this weekend marks the beginning of the fantasy football postseason. That means it's time to agonize over ro…\n",
      "Fantasy football 2017: NFL Week 14 cheat sheet Need some quick tips to assemble your fantasy lineup for Week 14? For most owners, this weekend marks the beginning of the fantasy football postseason. That means it's time to agonize over roster decisions.\n",
      "Fantasy Football Week 14 Sneaky Starts All but the luckiest fantasy owners at some point need to find the proverbial diamond in the rough—a waiver wire or bench player capable of putting up some points in a pinch. This weekly feature is dedicated to that part of fantasy football. It's not pretty, …\n",
      "Fantasy Football Week 14 Sneaky Starts Marquise Goodwin has taken the No. 1 receiver job for the San Francisco 49ers by storm, averaging 82 yards per game over the last four contests. He's just one of our recommended Sneaky Starts for Week 14 who can help you advance in your league's playoffs.\n",
      "Week 14 Fantasy Football DFS plays: Jameis Winston, Giovani Bernard offer big value Heath Cummings says Jameis Winston and Giovani Bernard can help you fit in several stars this week. But are there any available on the main slate?\n",
      "Week 14 Daily Fantasy Football Advice: Projected ownership percentages for NFL DFS contests - Sporting News Sporting News Week 14 Daily Fantasy Football Advice: Projected ownership percentages for NFL DFS contests Sporting News Missing the fantasy football playoffs doesn't sting quite like it used to, as NFL DFS can help us move on quicker with more games to play i…\n",
      "Fantasy football start/sit advice, Week 14 Running backs We break down the top starting options at running back this week, along with some players who should be avoided.\n",
      "Week 14 fantasy football inactives watch The ESPN Fantasy staff provides updated inactives and analysis based on the latest reports and official announcements leading up to kickoff.\n",
      "Fantasy football, Week 14: Start or sit Bengals QB Andy Dalton vs. Bears? Andy Dalton has one of the better matchups of any quarterback in Week 14.\n",
      "Fantasy Football Bad Beats, the Offsides Edition When Josh Shaw of the Cincinnati Bengals went offsides on Chris Boswell's eventual game-winning field goal in Week 13, he didn't just make the kick five yards shorter. He also helped dash the playoff dreams of some of the unluckiest fantasy owners. They tell …\n",
      "Fantasy football, Week 14: Who to start and sit across the NFL A look at the biggest decisions facing your fantasy team with the fantasy playoffs now here.\n",
      "Your complete fantasy football guide to Week 14 From rankings to matchups to injury updates, here's everything fantasy owners need to know.\n",
      "Fantasy Football Rankings for Week 14: Model that beat experts says start Giovani Bernard, bench Cam Newton Advanced computer model that has out-performed experts all season tells you who to sit and start\n",
      "Fantasy Football Week 14 Start 'Em, Sit 'Em - Sports Illustrated Sports Illustrated Fantasy Football Week 14 Start 'Em, Sit 'Em Sports Illustrated Ravens RB Alex Collins has developed into a must-start for fantasy football owners—even against the Steelers this week, he should be in starting lineups. By Michael Beller. Dece…\n",
      "Fantasy Football Week 14: What you missed Wednesday, with Mark Ingram expected to play, and Zach Ertz and Joe Mixon in doubt Chris Towers breaks down all the latest news from a busy Wednesday around the NFL.\n",
      "Daily Fantasy Football Week 14: Strategy Advice for DraftKings, FanDuel Lineups The NFL fantasy football season may be over for some players in season-long leagues, but daily fantasy football will still go on through conference championship weekend. Here's a quick look at some notable plays for the main slate (the Sunday early and late a…\n"
     ]
    }
   ],
   "source": [
    "url = ()\n",
    "user_input = input('Enter a player name: ')\n",
    "user_input = user_input.replace(' ', '+')\n",
    "api_url = 'https://newsapi.org/v2/everything?'\n",
    "search_url = 'q=fantasy+football+'+user_input+'&'\n",
    "date = 'from=2017-12-07&'\n",
    "sort_by = 'sortBy=relevance&'\n",
    "api_key = 'apiKey=0e584242425141bdbfa02d4d0af7f21b'\n",
    "url = str((api_url + search_url + date + sort_by + api_key))\n",
    "url = url.replace(',', '')\n",
    "print(url)\n",
    "#to change argument kwargs\n",
    "#print(type(url))\n",
    "response = requests.get(url)\n",
    "#response_json = json.loads(str(response))\n",
    "response = response.json()\n",
    "print(type(response))\n",
    "#print(response)\n",
    "#print(response['articles'][1]['title'])\n",
    "#print(type(response['articles']))\n",
    "for item in response['articles']:\n",
    "    print(item['title'], item['description'])"
   ]
  },
  {
   "cell_type": "code",
   "execution_count": 6,
   "metadata": {},
   "outputs": [
    {
     "ename": "SyntaxError",
     "evalue": "invalid syntax (<ipython-input-6-7cc2fd9e1784>, line 8)",
     "output_type": "error",
     "traceback": [
      "\u001b[0;36m  File \u001b[0;32m\"<ipython-input-6-7cc2fd9e1784>\"\u001b[0;36m, line \u001b[0;32m8\u001b[0m\n\u001b[0;31m    'from=2017-12-07&'\u001b[0m\n\u001b[0m                     ^\u001b[0m\n\u001b[0;31mSyntaxError\u001b[0m\u001b[0;31m:\u001b[0m invalid syntax\n"
     ]
    }
   ],
   "source": [
    "print(type(url))\n",
    "player = input('input a player name: ')\n",
    "player = 'fantasy+football+' + player + '&'\n",
    "#url_start = 'https://newsapi.org/v2/everything?'\n",
    "#url_end = 'from=2017-12-07&''sortBy=relevance&''apiKey=0e584242425141bdbfa02d4d0af7f21b'\n",
    "input_url = ('https://newsapi.org/v2/everything?'\n",
    "       'q=%s' % (player)\n",
    "       'from=2017-12-07&'\n",
    "       'sortBy=relevance&'\n",
    "       'apiKey=0e584242425141bdbfa02d4d0af7f21b')\n",
    "response = requests.get(input_url)\n",
    "response.ok\n",
    "print(type(url_end))\n",
    "print(player)\n",
    "print(input_url)\n",
    "for item in response['articles']:\n",
    "    print(item['title'], item['url']) "
   ]
  },
  {
   "cell_type": "code",
   "execution_count": null,
   "metadata": {
    "collapsed": true
   },
   "outputs": [],
   "source": []
  }
 ],
 "metadata": {
  "kernelspec": {
   "display_name": "Python 3",
   "language": "python",
   "name": "python3"
  },
  "language_info": {
   "codemirror_mode": {
    "name": "ipython",
    "version": 3
   },
   "file_extension": ".py",
   "mimetype": "text/x-python",
   "name": "python",
   "nbconvert_exporter": "python",
   "pygments_lexer": "ipython3",
   "version": "3.6.1"
  }
 },
 "nbformat": 4,
 "nbformat_minor": 2
}
