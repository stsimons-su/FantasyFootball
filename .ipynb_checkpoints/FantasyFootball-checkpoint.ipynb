{
 "cells": [
  {
   "cell_type": "code",
   "execution_count": 1,
   "metadata": {},
   "outputs": [
    {
     "name": "stdout",
     "output_type": "stream",
     "text": [
      "IST 256 final project\n"
     ]
    }
   ],
   "source": [
    "print('IST 256 final project')"
   ]
  },
  {
   "cell_type": "code",
   "execution_count": 14,
   "metadata": {},
   "outputs": [],
   "source": [
    "import requests\n",
    "import json\n",
    "import warnings\n",
    "import requests_oauthlib"
   ]
  },
  {
   "cell_type": "code",
   "execution_count": 15,
   "metadata": {
    "collapsed": true
   },
   "outputs": [],
   "source": [
    "r = requests.get('https://social.yahooapis.com/v1/user/abcdef123/profile?format=json', auth=('dj0yJmk9NldpMHVsb2lZRTA2JmQ9WVdrOWEwZHpZbTUxTkdNbWNHbzlNQS0tJnM9Y29uc3VtZXJzZWNyZXQmeD1kMQ--', '65eb25588f1464c0409a34d24ae0974fe3f6d679'))"
   ]
  },
  {
   "cell_type": "code",
   "execution_count": 16,
   "metadata": {},
   "outputs": [
    {
     "data": {
      "text/plain": [
       "400"
      ]
     },
     "execution_count": 16,
     "metadata": {},
     "output_type": "execute_result"
    }
   ],
   "source": [
    "r.status_code"
   ]
  },
  {
   "cell_type": "code",
   "execution_count": 17,
   "metadata": {},
   "outputs": [
    {
     "data": {
      "text/plain": [
       "<Response [400]>"
      ]
     },
     "execution_count": 17,
     "metadata": {},
     "output_type": "execute_result"
    }
   ],
   "source": [
    "p =requests.get('https://social.yahooapis.com/v1/user/abcdef123/profile?format=csv',\n",
    "auth=('dj0yJmk9NldpMHVsb2lZRTA2JmQ9WVdrOWEwZHpZbTUxTkdNbWNHbzlNQS0tJnM9Y29uc3VtZXJzZWNyZXQmeD1kMQ--', '65eb25588f1464c0409a34d24ae0974fe3f6d679'))\n",
    "p"
   ]
  },
  {
   "cell_type": "code",
   "execution_count": 26,
   "metadata": {},
   "outputs": [
    {
     "name": "stdout",
     "output_type": "stream",
     "text": [
      "Request is not ok.  Error code 401\n"
     ]
    }
   ],
   "source": [
    "headers = {'user-agent': 'my-app/0.0.1'}\n",
    "url = 'https://social.yahooapis.com/v1/user/abcdef123/profile?format=json'\n",
    "response = requests.get(url)\n",
    "header = { \"dj0yJmk9NldpMHVsb2lZRTA2JmQ9WVdrOWEwZHpZbTUxTkdNbWNHbzlNQS0tJnM9Y29uc3VtZXJzZWNyZXQmeD1kMQ--\": \"65eb25588f1464c0409a34d24ae0974fe3f6d679\",\n",
    "    \"Accept\": \"application/json\" }\n",
    "idk = requests.get(url, headers=header )\n",
    "if not idk.ok:\n",
    "    print('Request is not ok.  Error code', idk.status_code)"
   ]
  },
  {
   "cell_type": "code",
   "execution_count": null,
   "metadata": {
    "collapsed": true
   },
   "outputs": [],
   "source": []
  }
 ],
 "metadata": {
  "kernelspec": {
   "display_name": "Python 3",
   "language": "python",
   "name": "python3"
  },
  "language_info": {
   "codemirror_mode": {
    "name": "ipython",
    "version": 3
   },
   "file_extension": ".py",
   "mimetype": "text/x-python",
   "name": "python",
   "nbconvert_exporter": "python",
   "pygments_lexer": "ipython3",
   "version": "3.6.1"
  }
 },
 "nbformat": 4,
 "nbformat_minor": 2
}
