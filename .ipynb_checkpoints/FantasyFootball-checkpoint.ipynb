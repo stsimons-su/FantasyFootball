{
 "cells": [
  {
   "cell_type": "code",
   "execution_count": 1,
   "metadata": {},
   "outputs": [
    {
     "name": "stdout",
     "output_type": "stream",
     "text": [
      "IST 256 final project\n"
     ]
    }
   ],
   "source": [
    "print('IST 256 final project')"
   ]
  },
  {
   "cell_type": "code",
   "execution_count": 2,
   "metadata": {
    "collapsed": true
   },
   "outputs": [],
   "source": [
    "import requests\n",
    "import json\n",
    "import warnings"
   ]
  },
  {
   "cell_type": "code",
   "execution_count": 15,
   "metadata": {
    "collapsed": true
   },
   "outputs": [],
   "source": [
    "r = requests.get('https://social.yahooapis.com/v1/user/abcdef123/profile?format=json', auth=('dj0yJmk9NldpMHVsb2lZRTA2JmQ9WVdrOWEwZHpZbTUxTkdNbWNHbzlNQS0tJnM9Y29uc3VtZXJzZWNyZXQmeD1kMQ--', '65eb25588f1464c0409a34d24ae0974fe3f6d679'))"
   ]
  },
  {
   "cell_type": "code",
   "execution_count": 16,
   "metadata": {},
   "outputs": [
    {
     "data": {
      "text/plain": [
       "400"
      ]
     },
     "execution_count": 16,
     "metadata": {},
     "output_type": "execute_result"
    }
   ],
   "source": [
    "r.status_code"
   ]
  },
  {
   "cell_type": "code",
   "execution_count": 17,
   "metadata": {},
   "outputs": [
    {
     "data": {
      "text/plain": [
       "<Response [400]>"
      ]
     },
     "execution_count": 17,
     "metadata": {},
     "output_type": "execute_result"
    }
   ],
   "source": [
    "p =requests.get('https://social.yahooapis.com/v1/user/abcdef123/profile?format=csv',\n",
    "auth=('dj0yJmk9NldpMHVsb2lZRTA2JmQ9WVdrOWEwZHpZbTUxTkdNbWNHbzlNQS0tJnM9Y29uc3VtZXJzZWNyZXQmeD1kMQ--', '65eb25588f1464c0409a34d24ae0974fe3f6d679'))\n",
    "p"
   ]
  },
  {
   "cell_type": "code",
   "execution_count": 26,
   "metadata": {},
   "outputs": [
    {
     "name": "stdout",
     "output_type": "stream",
     "text": [
      "Request is not ok.  Error code 401\n"
     ]
    }
   ],
   "source": [
    "#Avi we need help with this API Code\n",
    "#We are getting error code 401 so we know its a problem with our request\n",
    "#but we don't know how to fix\n",
    "headers = {'user-agent': 'my-app/0.0.1'}\n",
    "url = 'https://social.yahooapis.com/v1/user/abcdef123/profile?format=json'\n",
    "response = requests.get(url)\n",
    "header = { ,\n",
    "    \"Accept\": \"application/json\" }\n",
    "idk = requests.get(url, headers=header )\n",
    "if not idk.ok:\n",
    "    print('Request is not ok.  Error code', idk.status_code)"
   ]
  },
  {
   "cell_type": "code",
   "execution_count": 4,
   "metadata": {},
   "outputs": [
    {
     "ename": "AttributeError",
     "evalue": "'str' object has no attribute 'games'",
     "output_type": "error",
     "traceback": [
      "\u001b[0;31m---------------------------------------------------------------------------\u001b[0m",
      "\u001b[0;31mAttributeError\u001b[0m                            Traceback (most recent call last)",
      "\u001b[0;32m<ipython-input-4-51cd2408398f>\u001b[0m in \u001b[0;36m<module>\u001b[0;34m()\u001b[0m\n\u001b[1;32m      1\u001b[0m \u001b[0mnflgame\u001b[0m \u001b[0;34m=\u001b[0m \u001b[0;34m''\u001b[0m\u001b[0;34m\u001b[0m\u001b[0m\n\u001b[0;32m----> 2\u001b[0;31m \u001b[0mgames\u001b[0m \u001b[0;34m=\u001b[0m \u001b[0mnflgame\u001b[0m\u001b[0;34m.\u001b[0m\u001b[0mgames\u001b[0m\u001b[0;34m(\u001b[0m\u001b[0;36m2013\u001b[0m\u001b[0;34m,\u001b[0m \u001b[0mweek\u001b[0m\u001b[0;34m=\u001b[0m\u001b[0;36m1\u001b[0m\u001b[0;34m)\u001b[0m\u001b[0;34m\u001b[0m\u001b[0m\n\u001b[0m\u001b[1;32m      3\u001b[0m \u001b[0mplayers\u001b[0m \u001b[0;34m=\u001b[0m \u001b[0mnflgame\u001b[0m\u001b[0;34m.\u001b[0m\u001b[0mcombine_game_stats\u001b[0m\u001b[0;34m(\u001b[0m\u001b[0mgames\u001b[0m\u001b[0;34m)\u001b[0m\u001b[0;34m\u001b[0m\u001b[0m\n\u001b[1;32m      4\u001b[0m \u001b[0;32mfor\u001b[0m \u001b[0mp\u001b[0m \u001b[0;32min\u001b[0m \u001b[0mplayers\u001b[0m\u001b[0;34m.\u001b[0m\u001b[0mrushing\u001b[0m\u001b[0;34m(\u001b[0m\u001b[0;34m)\u001b[0m\u001b[0;34m.\u001b[0m\u001b[0msort\u001b[0m\u001b[0;34m(\u001b[0m\u001b[0;34m'rushing_yds'\u001b[0m\u001b[0;34m)\u001b[0m\u001b[0;34m.\u001b[0m\u001b[0mlimit\u001b[0m\u001b[0;34m(\u001b[0m\u001b[0;36m5\u001b[0m\u001b[0;34m)\u001b[0m\u001b[0;34m:\u001b[0m\u001b[0;34m\u001b[0m\u001b[0m\n\u001b[1;32m      5\u001b[0m     \u001b[0mmsg\u001b[0m \u001b[0;34m=\u001b[0m \u001b[0;34m'%s %d carries for %d yards and %d TDs'\u001b[0m\u001b[0;34m\u001b[0m\u001b[0m\n",
      "\u001b[0;31mAttributeError\u001b[0m: 'str' object has no attribute 'games'"
     ]
    }
   ],
   "source": [
    "nflgame = ''\n",
    "games = nflgame.games(2013, week=1)\n",
    "players = nflgame.combine_game_stats(games)\n",
    "for p in players.rushing().sort('rushing_yds').limit(5):\n",
    "    msg = '%s %d carries for %d yards and %d TDs'\n",
    "    print (msg % (p, p.rushing_att, p.rushing_yds, p.rushing_tds))\n"
   ]
  },
  {
   "cell_type": "code",
   "execution_count": null,
   "metadata": {
    "collapsed": true
   },
   "outputs": [],
   "source": [
    "  url = 'http://freegeoip.net/json/' + file_ip\n",
    "    lookup = requests.get(url)\n",
    "    lookup_address = lookup.json()\n",
    "    return lookup_address"
   ]
  },
  {
   "cell_type": "code",
   "execution_count": 3,
   "metadata": {},
   "outputs": [
    {
     "ename": "TypeError",
     "evalue": "'Response' object is not subscriptable",
     "output_type": "error",
     "traceback": [
      "\u001b[1;31m---------------------------------------------------------------------------\u001b[0m",
      "\u001b[1;31mTypeError\u001b[0m                                 Traceback (most recent call last)",
      "\u001b[1;32m<ipython-input-3-5e2cb202b9fc>\u001b[0m in \u001b[0;36m<module>\u001b[1;34m()\u001b[0m\n\u001b[0;32m     10\u001b[0m \u001b[1;31m#news_headlines = json.loads(news_response)\u001b[0m\u001b[1;33m\u001b[0m\u001b[1;33m\u001b[0m\u001b[0m\n\u001b[0;32m     11\u001b[0m \u001b[0mnews_headline\u001b[0m \u001b[1;33m=\u001b[0m \u001b[0mnews_response\u001b[0m\u001b[1;33m.\u001b[0m\u001b[0mjson\u001b[0m\u001b[1;33m(\u001b[0m\u001b[1;33m)\u001b[0m\u001b[1;33m\u001b[0m\u001b[0m\n\u001b[1;32m---> 12\u001b[1;33m \u001b[0mprint\u001b[0m \u001b[1;33m(\u001b[0m\u001b[0mnews_response\u001b[0m\u001b[1;33m[\u001b[0m\u001b[1;34m'headline'\u001b[0m\u001b[1;33m]\u001b[0m\u001b[1;33m)\u001b[0m\u001b[1;33m\u001b[0m\u001b[0m\n\u001b[0m\u001b[0;32m     13\u001b[0m \u001b[1;31m#API Key 0e584242425141bdbfa02d4d0af7f21b\u001b[0m\u001b[1;33m\u001b[0m\u001b[1;33m\u001b[0m\u001b[0m\n",
      "\u001b[1;31mTypeError\u001b[0m: 'Response' object is not subscriptable"
     ]
    }
   ],
   "source": [
    "#Related Player News\n",
    "player_name = 'Ty Montgomery'\n",
    "keyword = 'q=player_name', 'fantasy', 'football'\n",
    "news_url =('https://newsapi.org/v2/everything?'\n",
    "       'q=fantasy+football&'\n",
    "       'from=2017-12-07&'\n",
    "       'sortBy=popularity&'\n",
    "       'apiKey=0e584242425141bdbfa02d4d0af7f21b')\n",
    "news_response = requests.get(news_url)\n",
    "#news_headlines = json.loads(news_response)\n",
    "news_headline = news_response.json()\n",
    "print (news_response['headline'])\n",
    "#API Key 0e584242425141bdbfa02d4d0af7f21b"
   ]
  },
  {
   "cell_type": "code",
   "execution_count": 3,
   "metadata": {},
   "outputs": [
    {
     "name": "stdout",
     "output_type": "stream",
     "text": [
      "{'status': 'ok', 'articles': [{'source': {'id': 'bbc-news', 'name': 'BBC News'}, 'author': 'BBC News', 'title': 'Franken to quit Senate amid allegations', 'description': 'Democratic Senator Al Franken says he plans to quit after string of sexual misconduct allegations.', 'url': 'http://www.bbc.co.uk/news/world-us-canada-42271979', 'urlToImage': 'https://ichef-1.bbci.co.uk/news/1024/cpsprodpb/6AA5/production/_99110372_tv043445485.jpg', 'publishedAt': '2017-12-07T16:56:24Z'}, {'source': {'id': 'bbc-news', 'name': 'BBC News'}, 'author': 'BBC News', 'title': \"Tense start to Erdogan's Greece visit\", 'description': 'He is the first Turkish head of state to visit Greece in 65 years but walked straight into a row.', 'url': 'http://www.bbc.co.uk/news/world-europe-42265260', 'urlToImage': 'https://ichef-1.bbci.co.uk/news/1024/cpsprodpb/129D0/production/_99104267_d31dbaed-0f10-45d7-b478-173fe6c6ceb7.jpg', 'publishedAt': '2017-12-07T13:55:58Z'}, {'source': {'id': 'bbc-news', 'name': 'BBC News'}, 'author': 'BBC News', 'title': 'Palestinians rally over US Jerusalem move', 'description': 'Palestinian protesters clash with Israeli forces amid rising tensions in the occupied West Bank.', 'url': 'http://www.bbc.co.uk/news/world-middle-east-42265337', 'urlToImage': 'https://ichef.bbci.co.uk/news/1024/cpsprodpb/51D6/production/_99105902_mediaitem99105901.jpg', 'publishedAt': '2017-12-07T13:15:59Z'}, {'source': {'id': 'bbc-news', 'name': 'BBC News'}, 'author': 'BBC News', 'title': 'California fire burns Bel-Air mansions', 'description': \"The state's firefighters say they cannot effectively fight blazes in the current windy conditions.\", 'url': 'http://www.bbc.co.uk/news/world-us-canada-42263237', 'urlToImage': 'https://ichef-1.bbci.co.uk/news/1024/cpsprodpb/1631E/production/_99101909_hi043431576.jpg', 'publishedAt': '2017-12-07T09:25:45Z'}, {'source': {'id': 'bbc-news', 'name': 'BBC News'}, 'author': 'BBC News', 'title': 'May under pressure to break Brexit impasse', 'description': 'The DUP says there is \"work to be done\" and the Irish PM says the UK may put a plan forward later.', 'url': 'http://www.bbc.co.uk/news/uk-politics-42261967', 'urlToImage': 'https://ichef-1.bbci.co.uk/news/1024/cpsprodpb/2648/production/_99100890_24621e88-0e42-4849-97a4-3d372d6dcf37.jpg', 'publishedAt': '2017-12-07T05:39:39Z'}, {'source': {'id': 'bbc-news', 'name': 'BBC News'}, 'author': 'BBC News', 'title': \"US Olympics trip an 'open question'\", 'description': 'US participation in the next winter Games is far from certain, says the US ambassador to the UN.', 'url': 'http://www.bbc.co.uk/news/world-us-canada-42265568', 'urlToImage': 'https://ichef.bbci.co.uk/news/1024/cpsprodpb/16530/production/_99104419_olympics.jpg', 'publishedAt': '2017-12-07T12:48:06Z'}, {'source': {'id': 'bbc-news', 'name': 'BBC News'}, 'author': 'BBC News', 'title': \"'Holocaust denier' buys Hirohito memoir\", 'description': \"The buyer of the former Japan emperor's WW2 memoir is accused of denying the holocaust.\", 'url': 'http://www.bbc.co.uk/news/world-asia-42248054', 'urlToImage': 'https://ichef-1.bbci.co.uk/news/1024/cpsprodpb/D9D7/production/_99076755_90e31bab-5d13-4409-8adf-7bf147bb9658.jpg', 'publishedAt': '2017-12-07T12:12:10Z'}, {'source': {'id': 'bbc-news', 'name': 'BBC News'}, 'author': 'BBC News', 'title': 'Ex-officer jailed for shooting black man', 'description': 'Michael Slager was filmed shooting Walter Scott in the back as he ran away after a traffic stop.', 'url': 'http://www.bbc.co.uk/news/world-us-canada-42259256', 'urlToImage': 'https://ichef.bbci.co.uk/news/1024/cpsprodpb/CAE8/production/_92844915_slager_scott.jpg', 'publishedAt': '2017-12-07T18:10:22Z'}, {'source': {'id': 'bbc-news', 'name': 'BBC News'}, 'author': 'BBC News', 'title': 'FBI boss defends agency after Trump tirade', 'description': 'The FBI director says there is no finer institution after Mr Trump said its reputation was in tatters.', 'url': 'http://www.bbc.co.uk/news/world-us-canada-42270553', 'urlToImage': 'https://ichef.bbci.co.uk/images/ic/1024x576/p05qcx4h.jpg', 'publishedAt': '2017-12-07T16:38:41Z'}, {'source': {'id': 'bbc-news', 'name': 'BBC News'}, 'author': 'BBC News', 'title': 'The moment Australian MPs back gay marriage', 'description': 'Same-sex marriage will become legal in Australia after MPs passed a historic bill.', 'url': 'http://www.bbc.co.uk/news/world-australia-42264928', 'urlToImage': 'https://ichef-1.bbci.co.uk/news/1024/cpsprodpb/15266/production/_99103668_p05qbjj2.jpg', 'publishedAt': '2017-12-07T10:09:39Z'}]}\n"
     ]
    }
   ],
   "source": [
    "import requests\n",
    "\n",
    "url = ('https://newsapi.org/v2/top-headlines?'\n",
    "       'sources=bbc-news&'\n",
    "       'apiKey=0e584242425141bdbfa02d4d0af7f21b')\n",
    "\n",
    "response = requests.get(url)\n",
    "\n",
    "print(response.json())"
   ]
  },
  {
   "cell_type": "code",
   "execution_count": null,
   "metadata": {
    "collapsed": true
   },
   "outputs": [],
   "source": []
  }
 ],
 "metadata": {
  "kernelspec": {
   "display_name": "Python 3",
   "language": "python",
   "name": "python3"
  },
  "language_info": {
   "codemirror_mode": {
    "name": "ipython",
    "version": 3
   },
   "file_extension": ".py",
   "mimetype": "text/x-python",
   "name": "python",
   "nbconvert_exporter": "python",
   "pygments_lexer": "ipython3",
   "version": "3.6.1"
  }
 },
 "nbformat": 4,
 "nbformat_minor": 2
}
