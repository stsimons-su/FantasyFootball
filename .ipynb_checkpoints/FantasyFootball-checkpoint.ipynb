{
 "cells": [
  {
   "cell_type": "code",
   "execution_count": 1,
   "metadata": {},
   "outputs": [
    {
     "name": "stdout",
     "output_type": "stream",
     "text": [
      "IST 256 final project\n"
     ]
    }
   ],
   "source": [
    "print('IST 256 final project')"
   ]
  },
  {
   "cell_type": "code",
   "execution_count": 1,
   "metadata": {
    "collapsed": true
   },
   "outputs": [],
   "source": [
    "import requests\n",
    "import json\n",
    "import warnings"
   ]
  },
  {
   "cell_type": "code",
   "execution_count": 15,
   "metadata": {
    "collapsed": true
   },
   "outputs": [],
   "source": [
    "r = requests.get('https://social.yahooapis.com/v1/user/abcdef123/profile?format=json', auth=('dj0yJmk9NldpMHVsb2lZRTA2JmQ9WVdrOWEwZHpZbTUxTkdNbWNHbzlNQS0tJnM9Y29uc3VtZXJzZWNyZXQmeD1kMQ--', '65eb25588f1464c0409a34d24ae0974fe3f6d679'))"
   ]
  },
  {
   "cell_type": "code",
   "execution_count": 16,
   "metadata": {},
   "outputs": [
    {
     "data": {
      "text/plain": [
       "400"
      ]
     },
     "execution_count": 16,
     "metadata": {},
     "output_type": "execute_result"
    }
   ],
   "source": [
    "r.status_code"
   ]
  },
  {
   "cell_type": "code",
   "execution_count": 17,
   "metadata": {},
   "outputs": [
    {
     "data": {
      "text/plain": [
       "<Response [400]>"
      ]
     },
     "execution_count": 17,
     "metadata": {},
     "output_type": "execute_result"
    }
   ],
   "source": [
    "p =requests.get('https://social.yahooapis.com/v1/user/abcdef123/profile?format=csv',\n",
    "auth=('dj0yJmk9NldpMHVsb2lZRTA2JmQ9WVdrOWEwZHpZbTUxTkdNbWNHbzlNQS0tJnM9Y29uc3VtZXJzZWNyZXQmeD1kMQ--', '65eb25588f1464c0409a34d24ae0974fe3f6d679'))\n",
    "p"
   ]
  },
  {
   "cell_type": "code",
   "execution_count": 26,
   "metadata": {},
   "outputs": [
    {
     "name": "stdout",
     "output_type": "stream",
     "text": [
      "Request is not ok.  Error code 401\n"
     ]
    }
   ],
   "source": [
    "headers = {'user-agent': 'my-app/0.0.1'}\n",
    "url = 'https://social.yahooapis.com/v1/user/abcdef123/profile?format=json'\n",
    "response = requests.get(url)\n",
    "header = { \"dj0yJmk9NldpMHVsb2lZRTA2JmQ9WVdrOWEwZHpZbTUxTkdNbWNHbzlNQS0tJnM9Y29uc3VtZXJzZWNyZXQmeD1kMQ--\": \"65eb25588f1464c0409a34d24ae0974fe3f6d679\",\n",
    "    \"Accept\": \"application/json\" }\n",
    "idk = requests.get(url, headers=header )\n",
    "if not idk.ok:\n",
    "    print('Request is not ok.  Error code', idk.status_code)"
   ]
  },
  {
   "cell_type": "code",
   "execution_count": 4,
   "metadata": {},
   "outputs": [
    {
     "ename": "AttributeError",
     "evalue": "'str' object has no attribute 'games'",
     "output_type": "error",
     "traceback": [
      "\u001b[0;31m---------------------------------------------------------------------------\u001b[0m",
      "\u001b[0;31mAttributeError\u001b[0m                            Traceback (most recent call last)",
      "\u001b[0;32m<ipython-input-4-51cd2408398f>\u001b[0m in \u001b[0;36m<module>\u001b[0;34m()\u001b[0m\n\u001b[1;32m      1\u001b[0m \u001b[0mnflgame\u001b[0m \u001b[0;34m=\u001b[0m \u001b[0;34m''\u001b[0m\u001b[0;34m\u001b[0m\u001b[0m\n\u001b[0;32m----> 2\u001b[0;31m \u001b[0mgames\u001b[0m \u001b[0;34m=\u001b[0m \u001b[0mnflgame\u001b[0m\u001b[0;34m.\u001b[0m\u001b[0mgames\u001b[0m\u001b[0;34m(\u001b[0m\u001b[0;36m2013\u001b[0m\u001b[0;34m,\u001b[0m \u001b[0mweek\u001b[0m\u001b[0;34m=\u001b[0m\u001b[0;36m1\u001b[0m\u001b[0;34m)\u001b[0m\u001b[0;34m\u001b[0m\u001b[0m\n\u001b[0m\u001b[1;32m      3\u001b[0m \u001b[0mplayers\u001b[0m \u001b[0;34m=\u001b[0m \u001b[0mnflgame\u001b[0m\u001b[0;34m.\u001b[0m\u001b[0mcombine_game_stats\u001b[0m\u001b[0;34m(\u001b[0m\u001b[0mgames\u001b[0m\u001b[0;34m)\u001b[0m\u001b[0;34m\u001b[0m\u001b[0m\n\u001b[1;32m      4\u001b[0m \u001b[0;32mfor\u001b[0m \u001b[0mp\u001b[0m \u001b[0;32min\u001b[0m \u001b[0mplayers\u001b[0m\u001b[0;34m.\u001b[0m\u001b[0mrushing\u001b[0m\u001b[0;34m(\u001b[0m\u001b[0;34m)\u001b[0m\u001b[0;34m.\u001b[0m\u001b[0msort\u001b[0m\u001b[0;34m(\u001b[0m\u001b[0;34m'rushing_yds'\u001b[0m\u001b[0;34m)\u001b[0m\u001b[0;34m.\u001b[0m\u001b[0mlimit\u001b[0m\u001b[0;34m(\u001b[0m\u001b[0;36m5\u001b[0m\u001b[0;34m)\u001b[0m\u001b[0;34m:\u001b[0m\u001b[0;34m\u001b[0m\u001b[0m\n\u001b[1;32m      5\u001b[0m     \u001b[0mmsg\u001b[0m \u001b[0;34m=\u001b[0m \u001b[0;34m'%s %d carries for %d yards and %d TDs'\u001b[0m\u001b[0;34m\u001b[0m\u001b[0m\n",
      "\u001b[0;31mAttributeError\u001b[0m: 'str' object has no attribute 'games'"
     ]
    }
   ],
   "source": [
    "nflgame = ''\n",
    "games = nflgame.games(2013, week=1)\n",
    "players = nflgame.combine_game_stats(games)\n",
    "for p in players.rushing().sort('rushing_yds').limit(5):\n",
    "    msg = '%s %d carries for %d yards and %d TDs'\n",
    "    print (msg % (p, p.rushing_att, p.rushing_yds, p.rushing_tds))\n"
   ]
  },
  {
   "cell_type": "code",
   "execution_count": 10,
   "metadata": {},
   "outputs": [
    {
     "name": "stdout",
     "output_type": "stream",
     "text": [
      "{'status': 'ok', 'articles': [{'source': {'id': None, 'name': 'Vrheads.com'}, 'author': 'Cale Hunt', 'title': 'Best Oculus Rift Games as of December 2017', 'description': \"What are the best games for Oculus Rift? The Oculus Rift is one of the systems leading the charge when it comes to quality games for the young platform. If you're looking to drop a mint on a Rift, you'll want to spend the rest of your money on the most worthw…\", 'url': 'https://www.vrheads.com/best-oculus-rift-games', 'urlToImage': 'https://www.vrheads.com/sites/vrheads.com/files/styles/large/public/field/image/2016/08/Rec-Room-Top-Ten.jpg?itok=N1UayjQw', 'publishedAt': '2017-12-07T15:30:02Z'}, {'source': {'id': None, 'name': 'Theoutline.com'}, 'author': 'Aaron Gordon', 'title': 'Staring Into The Void Of The Most Meta Video Game Ever', 'description': '\"Esports Life\" is unintentionally absurd.', 'url': 'https://theoutline.com/post/2562/i-played-esports-life-a-video-game-about-playing-video-games', 'urlToImage': 'https://outline-prod.imgix.net/20171204-0hh20S5sQPItsUb6A6ne?auto=format&q=60&w=1280&s=b206e877c2ba6af8787778cfa4953af7', 'publishedAt': '2017-12-07T00:47:55Z'}, {'source': {'id': None, 'name': 'Si.com'}, 'author': 'Michael Beller', 'title': 'Fantasy Football Bad Beats, the Offsides Edition', 'description': \"When Josh Shaw of the Cincinnati Bengals went offsides on Chris Boswell's eventual game-winning field goal in Week 13, he didn't just make the kick five yards shorter. He also helped dash the playoff dreams of some of the unluckiest fantasy owners. They tell …\", 'url': 'https://www.si.com/nfl/2017/12/07/fantasy-football-bad-beats-week-13-bengals-offsides', 'urlToImage': 'https://imagesvc.timeincapp.com/v3/mm/image?url=https://cdn-s3.si.com/images/Bad-Beats-fantasy-football_0.jpg&w=1200&h=628&c=sc&poi=face&q=85', 'publishedAt': '2017-12-07T16:36:25Z'}, {'source': {'id': None, 'name': 'Si.com'}, 'author': 'John Paulsen', 'title': 'Fantasy Football Week 14 Sneaky Starts', 'description': \"Marquise Goodwin has taken the No. 1 receiver job for the San Francisco 49ers by storm, averaging 82 yards per game over the last four contests. He's just one of our recommended Sneaky Starts for Week 14 who can help you advance in your league's playoffs.\", 'url': 'https://www.si.com/nfl/2017/12/07/fantasy-football-week-14-sneaky-starts-marquise-goodwin-giovani-bernard', 'urlToImage': 'https://imagesvc.timeincapp.com/v3/mm/image?url=https://cdn-s3.si.com/images/marquise-goodwin-week-14-fantasy-football-sneaky-starts.jpg&w=1200&h=628&c=sc&poi=face&q=85', 'publishedAt': '2017-12-07T14:31:55Z'}, {'source': {'id': None, 'name': 'Toucharcade.com'}, 'author': 'Jared Nelson', 'title': \"Out Now: 'Reigns: Her Majesty', 'Portal Knights', 'Getting Over It', 'Ashworld', 'Big Shot Boxing', 'Amazing Katamari Damacy', 'Dragon's Watch', 'Street of Rage Classic', 'The Uncertain' and More\", 'description': \"It's the middle of the week, and that means it's time for our roundup of all the best new iOS games to hit the App Store in the past 7 days. As always it's a busy week, but I can't think of another week that had so darn many big name releases that dropped pre…\", 'url': 'http://toucharcade.com/2017/12/06/best-new-iphone-and-ipad-games-december-7/', 'urlToImage': 'http://toucharcade.com/wp-content/uploads/2017/12/696x696.jpg', 'publishedAt': '2017-12-07T04:30:35Z'}, {'source': {'id': None, 'name': 'Gq.com'}, 'author': 'Miriam Markowitz', 'title': '\"We\\'ll Deal with the Consequences Later\": The Cajun Navy and the Vigilante Future of Disaster Relief', 'description': 'After Hurricane Harvey, an ad hoc group of Louisianans called the Cajun Navy took their boats to Texas and started ferrying people to safety.', 'url': 'https://www.gq.com/story/cajun-navy-and-the-future-of-vigilante-disaster-relief', 'urlToImage': 'https://media.gq.com/photos/5a286162307e93729e229108/16:9/pass/credit--edmund-d.-fountain-for-the-new-york-times_redux---h_15000929.jpg', 'publishedAt': '2017-12-07T15:57:18Z'}, {'source': {'id': None, 'name': 'Mcsweeneys.net'}, 'author': 'REBECCA CAPLAN', 'title': 'Most Women Don’t Realize What a Scary Time It is for Men Who Have Probably Committed Sexual Assault', 'description': 'I want you to take a second and picture a world where you’re always looking over your shoulder, wondering if “it” might happen to you. You’re just going about your business, trying to get through the day like anyone else, but you can never relax, always havin…', 'url': 'https://www.mcsweeneys.net/articles/most-women-dont-realize-what-a-scary-time-it-is-for-men-who-have-probably-committed-sexual-assault', 'urlToImage': 'https://d3thpuk46eyjbu.cloudfront.net/uploads/production/11304/1512502719/original/pexels-photo-684387.jpeg?1512502719', 'publishedAt': '2017-12-07T16:00:00Z'}, {'source': {'id': None, 'name': 'Hvper.com'}, 'author': None, 'title': \"👉 A woman who thought she was terminally attempts suicide and fails. She finds out while recovering in the hospital that she wasn't... via Hvper.com\", 'description': 'The Internet on one page. Successor of Popurls, the mother of news aggregators. By @thomas', 'url': 'http://www.hvper.com/?ref=feed_6605a8e84a2cef35b37c1943fb669bf5', 'urlToImage': 'http://www.hvper.com/static/img/og_08.png', 'publishedAt': '2017-12-07T02:13:12Z'}, {'source': {'id': None, 'name': 'Hvper.com'}, 'author': None, 'title': '👉 Millions Are Hounded for Debt They Dont Owe. One Victim Fought Back via Hvper.com', 'description': 'The Internet on one page. Successor of Popurls, the mother of news aggregators. By @thomas', 'url': 'http://www.hvper.com/?ref=feed_fa5921be9569ab54a2fcc1af27150e2d', 'urlToImage': 'http://www.hvper.com/static/img/og_08.png', 'publishedAt': '2017-12-07T02:13:12Z'}, {'source': {'id': None, 'name': 'Hvper.com'}, 'author': None, 'title': '👉 I Made My Shed the Top-Rated Restaurant on TripAdvisor via Hvper.com', 'description': 'The Internet on one page. Successor of Popurls, the mother of news aggregators. By @thomas', 'url': 'http://www.hvper.com/?ref=feed_10e66b9d593e1626e20d48663a9b8d36', 'urlToImage': 'http://www.hvper.com/static/img/og_08.png', 'publishedAt': '2017-12-07T02:13:12Z'}, {'source': {'id': None, 'name': 'Hvper.com'}, 'author': None, 'title': '👉 The best response to anti-vaxxers Ive ever seen. And it only takes 90 seconds. via Hvper.com', 'description': 'The Internet on one page. Successor of Popurls, the mother of news aggregators. By @thomas', 'url': 'http://www.hvper.com/?ref=feed_627c51c4466ca64e9c2105fa8b1f90ad', 'urlToImage': 'http://www.hvper.com/static/img/og_08.png', 'publishedAt': '2017-12-07T02:13:12Z'}, {'source': {'id': None, 'name': 'Hvper.com'}, 'author': None, 'title': '👉 Trump slurs his words in a public speech, sparking health concerns via Hvper.com', 'description': 'The Internet on one page. Successor of Popurls, the mother of news aggregators. By @thomas', 'url': 'http://www.hvper.com/?ref=feed_2d6a5904c44fff09277ca434fc796ba1', 'urlToImage': 'http://www.hvper.com/static/img/og_08.png', 'publishedAt': '2017-12-07T02:13:12Z'}, {'source': {'id': 'the-telegraph', 'name': 'The Telegraph'}, 'author': 'Calum Ward', 'title': 'Telegraph Fantasy Football 17/18 tips: Week 18 preview', 'description': None, 'url': 'http://www.telegraph.co.uk/fantasy-sports/fantasy-football/tff-week-18-preview/', 'urlToImage': 'http://www.telegraph.co.uk/content/dam/Fantasy%2520Sports%2520and%2520Betting/Fantasy%2520Football/Murray-xlarge.jpg', 'publishedAt': '2017-12-07T11:26:28Z'}, {'source': {'id': None, 'name': 'Latimes.com'}, 'author': 'Curtis Zupke', 'title': 'Kings return to dominant form in third period', 'description': 'Finishing games was long a major attribute of the Kings, beginning when former coach Terry Murray taught them how to kick the door shut defensively through the first years under Darryl Sutter. Dustin Brown remembers that string of stubbornness when they led a…', 'url': 'http://www.latimes.com/sports/ducks/la-sp-kings-report-20171206-story.html', 'urlToImage': 'http://www.trbimg.com/img-5a289542/turbine/la-sp-kings-report-20171206', 'publishedAt': '2017-12-07T00:40:00Z'}, {'source': {'id': 'fox-sports', 'name': 'Fox Sports'}, 'author': None, 'title': 'Touchdowns & Donuts | Week 14 NFL Fantasy Football Plays', 'description': \"It's playoff time and Lisa Lane let's you know who to start.\", 'url': 'https://www.foxsports.com/san-diego/video/1111569475796', 'urlToImage': 'https://b.fssta.com/uploads/2017/12/Touchdowns_And_Donuts_Episode__12.1_1280x720_1111575619759.vresize.1200.630.high.0.jpg', 'publishedAt': '2017-12-07T17:25:39Z'}, {'source': {'id': None, 'name': 'Goal.com'}, 'author': None, 'title': 'Fantasy Football: Liverpool dominate Goal Champions League Team of the Week after Spartak thrashing', 'description': 'Our Fantasy writer looks at the latest round of European football and highlights stand out players from Liverpool, Bayern Munich, Juventus, and more', 'url': 'http://www.goal.com/en/news/fantasy-football-liverpool-dominate-goal-champions-league/9zie5fiswu531dhxtqbwclpef', 'urlToImage': 'https://images.performgroup.com/di/library/GOAL/d4/fb/sadio-mane-coutinho-firmino_16hw8z8au4iax11jdj4gfyzuuv.jpg?t=764769096&quality=100&h=300', 'publishedAt': '2017-12-07T14:29:40Z'}, {'source': {'id': None, 'name': 'Yahoo.com'}, 'author': 'Sports Illustrated', 'title': 'Fantasy Football Week 14 Sneaky Starts', 'description': \"All but the luckiest fantasy owners at some point need to find the proverbial diamond in the rough—a waiver wire or bench player capable of putting up some points in a pinch. This weekly feature is dedicated to that part of fantasy football. It's not pretty, …\", 'url': 'https://sports.yahoo.com/fantasy-football-week-14-sneaky-143155969.html', 'urlToImage': 'https://s.yimg.com/uu/api/res/1.2/_sTm4UMJPTEYGHrEss8cHQ--~B/aD03MjA7dz0xMjgwO3NtPTE7YXBwaWQ9eXRhY2h5b24-/http://media.zenfs.com/en-us/video/video.sportsillustrated.time.com/a115b7200a701586d3fbeece9d840f86', 'publishedAt': '2017-12-07T14:31:55Z'}, {'source': {'id': 'the-washington-post', 'name': 'The Washington Post'}, 'author': 'Washington Post', 'title': 'As fantasy football playoffs begin, Rob Gronkowski is suspended. Now what?', 'description': \"Rob Gronkowski will be suspended for Week 14 after his after-the-whistle hit on the Bills' Tre'Davious White. Frankly, the fallout for the Patriots may be positive: give an injury-prone star a late-season rest in game where New England is an 11-point road fav…\", 'url': 'https://www.washingtonpost.com/news/sports/wp/2017/12/07/as-fantasy-football-playoffs-begin-rob-gronkowski-is-suspended-now-what/', 'urlToImage': 'https://www.washingtonpost.com/rf/image_1484w/2010-2019/Wires/Images/2017-12-03/Getty/884882610.jpg?t=20170517', 'publishedAt': '2017-12-07T15:07:00Z'}, {'source': {'id': None, 'name': 'Nj.com'}, 'author': 'nj', 'title': 'NFL picks, predictions Week 14: Experts pick each game vs. point spread', 'description': 'The best and brightest football minds bring you weekly NFL picks against the spread. Which teams are the best bests? Where are the best underdog plays? Week 14 of the 2017 NFL season begins on Thursday night with Saints vs. Falcons. On Sunday, the Giants host…', 'url': 'http://www.nj.com/sports/index.ssf/2017/12/nfl_picks_predictions_week_14_experts_pick_each_ga.html?src=rss', 'urlToImage': 'http://image.nj.com/home/njo-media/width620/img/realtimesports_impact/photo/23865420-standard.jpg', 'publishedAt': '2017-12-07T05:00:00Z'}, {'source': {'id': None, 'name': 'Yahoo.com'}, 'author': 'Rotoworld', 'title': 'Matchup: Saints @ Falcons', 'description': \"Evan Silva analyzes fantasy matchups for Thursday night's Saints-Falcons showdown.\", 'url': 'https://sports.yahoo.com/matchup-saints-falcons-012400772--spt.html', 'urlToImage': 'https://s.yimg.com/uu/api/res/1.2/om8RkgpwfkKNTOVRvzf65g--~B/aD0yMDA7dz0zMDA7c209MTthcHBpZD15dGFjaHlvbg--/http://media.zenfs.com/en_US/Sports/Rotoworld/0NFL_Jones1_300.jpg', 'publishedAt': '2017-12-07T01:24:00Z'}]}\n"
     ]
    }
   ],
   "source": [
    "#Related Player News\n",
    "player_name = 'Ty Montgomery'\n",
    "keyword = 'q=player_name', 'fantasy', 'football'\n",
    "news_url =('https://newsapi.org/v2/everything?'\n",
    "       'q=fantasy+football&'\n",
    "       'from=2017-12-07&'\n",
    "       'sortBy=popularity&'\n",
    "       'apiKey=0e584242425141bdbfa02d4d0af7f21b')\n",
    "news_response = requests.get(news_url)\n",
    "print (news_response.json())\n",
    "#API Key 0e584242425141bdbfa02d4d0af7f21b"
   ]
  },
  {
   "cell_type": "code",
   "execution_count": 3,
   "metadata": {},
   "outputs": [
    {
     "name": "stdout",
     "output_type": "stream",
     "text": [
      "{'status': 'ok', 'articles': [{'source': {'id': 'bbc-news', 'name': 'BBC News'}, 'author': 'BBC News', 'title': 'Franken to quit Senate amid allegations', 'description': 'Democratic Senator Al Franken says he plans to quit after string of sexual misconduct allegations.', 'url': 'http://www.bbc.co.uk/news/world-us-canada-42271979', 'urlToImage': 'https://ichef-1.bbci.co.uk/news/1024/cpsprodpb/6AA5/production/_99110372_tv043445485.jpg', 'publishedAt': '2017-12-07T16:56:24Z'}, {'source': {'id': 'bbc-news', 'name': 'BBC News'}, 'author': 'BBC News', 'title': \"Tense start to Erdogan's Greece visit\", 'description': 'He is the first Turkish head of state to visit Greece in 65 years but walked straight into a row.', 'url': 'http://www.bbc.co.uk/news/world-europe-42265260', 'urlToImage': 'https://ichef-1.bbci.co.uk/news/1024/cpsprodpb/129D0/production/_99104267_d31dbaed-0f10-45d7-b478-173fe6c6ceb7.jpg', 'publishedAt': '2017-12-07T13:55:58Z'}, {'source': {'id': 'bbc-news', 'name': 'BBC News'}, 'author': 'BBC News', 'title': 'Palestinians rally over US Jerusalem move', 'description': 'Palestinian protesters clash with Israeli forces amid rising tensions in the occupied West Bank.', 'url': 'http://www.bbc.co.uk/news/world-middle-east-42265337', 'urlToImage': 'https://ichef.bbci.co.uk/news/1024/cpsprodpb/51D6/production/_99105902_mediaitem99105901.jpg', 'publishedAt': '2017-12-07T13:15:59Z'}, {'source': {'id': 'bbc-news', 'name': 'BBC News'}, 'author': 'BBC News', 'title': 'California fire burns Bel-Air mansions', 'description': \"The state's firefighters say they cannot effectively fight blazes in the current windy conditions.\", 'url': 'http://www.bbc.co.uk/news/world-us-canada-42263237', 'urlToImage': 'https://ichef-1.bbci.co.uk/news/1024/cpsprodpb/1631E/production/_99101909_hi043431576.jpg', 'publishedAt': '2017-12-07T09:25:45Z'}, {'source': {'id': 'bbc-news', 'name': 'BBC News'}, 'author': 'BBC News', 'title': 'May under pressure to break Brexit impasse', 'description': 'The DUP says there is \"work to be done\" and the Irish PM says the UK may put a plan forward later.', 'url': 'http://www.bbc.co.uk/news/uk-politics-42261967', 'urlToImage': 'https://ichef-1.bbci.co.uk/news/1024/cpsprodpb/2648/production/_99100890_24621e88-0e42-4849-97a4-3d372d6dcf37.jpg', 'publishedAt': '2017-12-07T05:39:39Z'}, {'source': {'id': 'bbc-news', 'name': 'BBC News'}, 'author': 'BBC News', 'title': \"US Olympics trip an 'open question'\", 'description': 'US participation in the next winter Games is far from certain, says the US ambassador to the UN.', 'url': 'http://www.bbc.co.uk/news/world-us-canada-42265568', 'urlToImage': 'https://ichef.bbci.co.uk/news/1024/cpsprodpb/16530/production/_99104419_olympics.jpg', 'publishedAt': '2017-12-07T12:48:06Z'}, {'source': {'id': 'bbc-news', 'name': 'BBC News'}, 'author': 'BBC News', 'title': \"'Holocaust denier' buys Hirohito memoir\", 'description': \"The buyer of the former Japan emperor's WW2 memoir is accused of denying the holocaust.\", 'url': 'http://www.bbc.co.uk/news/world-asia-42248054', 'urlToImage': 'https://ichef-1.bbci.co.uk/news/1024/cpsprodpb/D9D7/production/_99076755_90e31bab-5d13-4409-8adf-7bf147bb9658.jpg', 'publishedAt': '2017-12-07T12:12:10Z'}, {'source': {'id': 'bbc-news', 'name': 'BBC News'}, 'author': 'BBC News', 'title': 'Ex-officer jailed for shooting black man', 'description': 'Michael Slager was filmed shooting Walter Scott in the back as he ran away after a traffic stop.', 'url': 'http://www.bbc.co.uk/news/world-us-canada-42259256', 'urlToImage': 'https://ichef.bbci.co.uk/news/1024/cpsprodpb/CAE8/production/_92844915_slager_scott.jpg', 'publishedAt': '2017-12-07T18:10:22Z'}, {'source': {'id': 'bbc-news', 'name': 'BBC News'}, 'author': 'BBC News', 'title': 'FBI boss defends agency after Trump tirade', 'description': 'The FBI director says there is no finer institution after Mr Trump said its reputation was in tatters.', 'url': 'http://www.bbc.co.uk/news/world-us-canada-42270553', 'urlToImage': 'https://ichef.bbci.co.uk/images/ic/1024x576/p05qcx4h.jpg', 'publishedAt': '2017-12-07T16:38:41Z'}, {'source': {'id': 'bbc-news', 'name': 'BBC News'}, 'author': 'BBC News', 'title': 'The moment Australian MPs back gay marriage', 'description': 'Same-sex marriage will become legal in Australia after MPs passed a historic bill.', 'url': 'http://www.bbc.co.uk/news/world-australia-42264928', 'urlToImage': 'https://ichef-1.bbci.co.uk/news/1024/cpsprodpb/15266/production/_99103668_p05qbjj2.jpg', 'publishedAt': '2017-12-07T10:09:39Z'}]}\n"
     ]
    }
   ],
   "source": [
    "import requests\n",
    "\n",
    "url = ('https://newsapi.org/v2/top-headlines?'\n",
    "       'sources=bbc-news&'\n",
    "       'apiKey=0e584242425141bdbfa02d4d0af7f21b')\n",
    "\n",
    "response = requests.get(url)\n",
    "\n",
    "print(response.json())"
   ]
  },
  {
   "cell_type": "code",
   "execution_count": null,
   "metadata": {
    "collapsed": true
   },
   "outputs": [],
   "source": []
  }
 ],
 "metadata": {
  "kernelspec": {
   "display_name": "Python 3",
   "language": "python",
   "name": "python3"
  },
  "language_info": {
   "codemirror_mode": {
    "name": "ipython",
    "version": 3
   },
   "file_extension": ".py",
   "mimetype": "text/x-python",
   "name": "python",
   "nbconvert_exporter": "python",
   "pygments_lexer": "ipython3",
   "version": "3.6.1"
  }
 },
 "nbformat": 4,
 "nbformat_minor": 2
}
