{
 "cells": [
  {
   "cell_type": "markdown",
   "metadata": {},
   "source": [
    "Written explanation of \"who worked on what\" outlining individual contributions to this final project.\n",
    "\n",
    "    For our project, Natalie Geary made a majority of our poster and helped code the get_sentiment function. She helped put together the presentation and the deliverables to end the project. Stephen Nemy found the NewsAPI and created the player_query function. He also worked with Steven to finish our sentiment analysis. He also wrote a good portion of the technical write up of our code. Steven Simons wrote the sentiment analysis and also worked with Natalie to figure out how to implement TextBlob , as well as our get_sentiment function.\n",
    "\n",
    "A write up of how your code works technically. This should be similar to the homework process: Inputs, Algorithm and outputs.\n",
    "\n",
    "Inputs: Football player names or “Quit”\n",
    "\n",
    "Outputs: Player with highest sentiment score\n",
    "\n",
    "Step by Step\n",
    "\n",
    "1) Import modules\n",
    "\n",
    "    a) Requests\n",
    "\n",
    "    b) Json\n",
    "\n",
    "    c) Re\n",
    "\n",
    "    d) Textblob\n",
    "\n",
    "2) Define the variable to store the sentiment score\n",
    "\n",
    "3) Define a function (get_sentiment) to return the sentiment score\n",
    "\n",
    "    a) Take argument of string of headlines/descriptions\n",
    "\n",
    "    b) Perform textblob analysis\n",
    "\n",
    "    c) Return the analysis.sentiment\n",
    "\n",
    "4) Define function (player_query) to retrieve news articles\n",
    "\n",
    "    a) Take argument of user_inputted player name\n",
    "\n",
    "    b) Construct the URL\n",
    "\n",
    "        i) Replace spaces from input with + signs for URL\n",
    "\n",
    "        ii) Add all pieces of URL together\n",
    "\n",
    "    c) Request url API response\n",
    "\n",
    "    d) Create variable to sum up total sentiment score\n",
    "\n",
    "    e) Loop through each article\n",
    "\n",
    "        i) Perform sentiment analysis function\n",
    "\n",
    "        ii) Add result to total sentiment score\n",
    "\n",
    "    f) After loop return total sentiment value\n",
    "\n",
    "5) Print out instructions to user\n",
    "\n",
    "6) Create empty dict for players\n",
    "\n",
    "7) Enter a while loop\n",
    "\n",
    "    a) Prompt user to input player\n",
    "\n",
    "    b) Format name for url argument\n",
    "\n",
    "    c) If user enters “Quit” exit the loop\n",
    "\n",
    "    d) Perform player query function which returns total sentiment score\n",
    "\n",
    "    e) Update the dictionary with the result of the sentiment score and player name\n",
    "\n",
    "8) Once quit is entered, return the player with the highest sentiment score\n",
    "\n",
    "If you had to adjust your idea from the original proposal - an explanation of what you changed and why.\n",
    "\n",
    "In our initial proposal, we intended to use either an ESPN or Yahoo Fantasy API to gather data that would give us the projected scores, weekly averages and opposing team defensive rankings. After some issues connecting to the Yahoo API, as well as problems with the publicly available versions of ESPN’s data, we took a different approach. We decided to utilize the NewsAPI and use sentiment as our data type instead of raw statistics. We figured this was a different approach that hadn’t been looked into and as avid fantasy football players, we realized that this would be able to give you a value on what the general public is thinking, which helps you to establish confidence in the player you are thinking of starting."
   ]
  },
  {
   "cell_type": "markdown",
   "metadata": {},
   "source": [
    "Poster - https://drive.google.com/file/d/1N4qGmum90NyFBjWRfqaZ-fJRLI7-vc_B/view?usp=sharing"
   ]
  },
  {
   "cell_type": "code",
   "execution_count": null,
   "metadata": {
    "collapsed": true
   },
   "outputs": [],
   "source": []
  }
 ],
 "metadata": {
  "kernelspec": {
   "display_name": "Python 3",
   "language": "python",
   "name": "python3"
  },
  "language_info": {
   "codemirror_mode": {
    "name": "ipython",
    "version": 3
   },
   "file_extension": ".py",
   "mimetype": "text/x-python",
   "name": "python",
   "nbconvert_exporter": "python",
   "pygments_lexer": "ipython3",
   "version": "3.6.1"
  }
 },
 "nbformat": 4,
 "nbformat_minor": 2
}
