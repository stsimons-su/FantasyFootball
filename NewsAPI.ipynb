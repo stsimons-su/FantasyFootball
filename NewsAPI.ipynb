{
 "cells": [
  {
   "cell_type": "code",
   "execution_count": 1,
   "metadata": {},
   "outputs": [
    {
     "name": "stdout",
     "output_type": "stream",
     "text": [
      "<class 'dict'>\n",
      "Aaron Jones, Jamaal Williams pull off rare rookie 100-yard double play\n",
      "<class 'list'>\n",
      "Fantasy Football -- Week 14 rankings https://sports.yahoo.com/fantasy-football-week-14-rankings-001321039.html\n",
      "Aaron Jones, Jamaal Williams pull off rare rookie 100-yard double play http://www.espn.com/blog/nfcnorth/post/_/id/79817/aaron-jones-jamaal-williams-pull-off-rare-rookie-100-yard-double-play\n",
      "Fantasy Football Week 14: Giovani Bernard among Jamey Eisenberg's favorite sleeper RBs https://www.cbssports.com/fantasy/football/news/fantasy-football-week-14-giovani-bernard-among-jamey-eisenbergs-favorite-sleeper-rbs/\n",
      "Fantasy Football: The Playlist for Week 14 http://www.nydailynews.com/sports/football/fantasy-football-playlist-week-14-article-1.3688986\n",
      "Fantasy Football: Week 14 matchups to avoid and exploit http://www.profootballweekly.com/lists/2017/12/07/540ccd004ef740158f3681753c35a75a/index.xml\n",
      "Week 14 Fantasy Rankings: Running back http://www.sportingnews.com/fantasy/football/news/week-14-fantasy-rankings-rb-ameer-abdullah-injury-running-back-sleepers-adrian-peterson-doug-martin-start-sit-matchups-non-ppr-waiver-wire-pickups-ha/5lvfc2cm2vm31bdjjemp2chxb\n",
      "Fantasy Football Week 14 Rankings: Top Pickups After Latest Injuries http://bleacherreport.com/articles/2748331-fantasy-football-week-14-rankings-top-pickups-after-latest-injuries\n",
      "Fantasy football start/sit: Wide receivers to rely on in the playoffs - USA TODAY https://www.usatoday.com/story/sports/fantasy/2017/12/07/fantasy-football-start-sit-larry-fitzgerald-cam-newton/928656001/\n",
      "Fantasy Football: 5 unlikely NFC heroes in opening round of playoffs http://www.profootballweekly.com/lists/2017/12/08/bef75740bd0142788cdfe61ccac9b15f/index.xml\n",
      "Who To Start And Sit In Week 14 Of The 2017 Fantasy Football Season http://brobible.com/sports/article/2017-fantasy-football-week-14/\n",
      "Fantasy Football Week 14 Start 'Em, Sit 'Em - Sports Illustrated https://www.si.com/nfl/2017/12/07/fantasy-football-week-14-start-em-sit-em\n",
      "Fantasy Football Week 14 Rankings: Latest Position-by-Position Rundown http://bleacherreport.com/articles/2748172-fantasy-football-week-14-rankings-latest-position-by-position-rundown\n",
      "Fantasy Football Week 14: Sunday expert rankings update for QB, RB, WR, TE https://www.cbssports.com/fantasy/football/news/fantasy-football-week-14-sunday-expert-rankings-update-for-qb-rb-wr-te/\n",
      "Get your fantasy football playoffs started on the right foot by making sure these guys are in your lineup https://sportsday.dallasnews.com/dallas-cowboys/cowboys/2017/12/08/get-fantasy-football-playoffs-started-right-foot-making-sure-guys-lineup\n",
      "Fantasy Football Week 14 Rankings: Projections for Players with Matchups We Love http://bleacherreport.com/articles/2748224-fantasy-football-week-14-rankings-projections-for-players-with-matchups-we-love\n",
      "Top daily fantasy football plays for Week 14 of the NFL season https://www.sbnation.com/fantasy/2017/12/9/16754696/top-daily-fantasy-football-plays-for-week-14-of-the-nfl-season-alex-smith-lesean-mccoy-adam-thielen\n",
      "Fantasy Football Week 14 Lineup Cheat Sheet: Survive and advance in your playoff matchup with help from Matt Forte, Martavis Bryant and Dak Prescott https://www.cbssports.com/fantasy/football/news/fantasy-football-week-14-lineup-cheat-sheet-survive-and-advance-in-your-playoff-matchup-with-guys-like-matt-forte-martavis-bryant-and-dak-prescott/\n",
      "Love, Hate and the process http://www.espn.com/fantasy/football/story/_/page/TMRlovehate171207/fantasy-football-picks-sleepers-busts-week-14\n",
      "Matchups: Silva's Week 14 Matchups http://rotoworld.com/articles/nfl/76397/179/silvas-week-14-matchups\n",
      "Silva's Week 14 Matchups https://sports.yahoo.com/silvas-week-14-matchups-234700804--spt.html\n"
     ]
    }
   ],
   "source": [
    "import requests\n",
    "import json\n",
    "url = ('https://newsapi.org/v2/everything?'\n",
    "       'q=fantasy+football+jamaal+williams&'\n",
    "       'from=2017-12-07&'\n",
    "       'sortBy=relevance&'\n",
    "       'apiKey=0e584242425141bdbfa02d4d0af7f21b')\n",
    "type(url)\n",
    "response = requests.get(url)\n",
    "#response_json = json.loads(str(response))\n",
    "response = response.json()\n",
    "print(type(response))\n",
    "#print(response)\n",
    "print(response['articles'][1]['title'])\n",
    "print(type(response['articles']))\n",
    "for item in response['articles']:\n",
    "    print(item['title'], item['url'])"
   ]
  },
  {
   "cell_type": "code",
   "execution_count": 2,
   "metadata": {
    "collapsed": true
   },
   "outputs": [],
   "source": [
    "import re\n",
    "from textblob import TextBlob"
   ]
  },
  {
   "cell_type": "code",
   "execution_count": 10,
   "metadata": {
    "collapsed": true
   },
   "outputs": [],
   "source": [
    "def get_sentiment(player):\n",
    "    # create TextBlob object of passed tweet text\n",
    "    analysis = TextBlob(player)\n",
    "    # set sentiment\n",
    "    print (analysis.sentiment.polarity)\n",
    "    if analysis.sentiment.polarity > 0:\n",
    "        return 'positive'\n",
    "    elif analysis.sentiment.polarity == 0:\n",
    "        return 'neutral'\n",
    "    else:\n",
    "        return 'negative'"
   ]
  },
  {
   "cell_type": "code",
   "execution_count": 18,
   "metadata": {},
   "outputs": [
    {
     "name": "stdout",
     "output_type": "stream",
     "text": [
      "-0.6999999999999998\n"
     ]
    },
    {
     "data": {
      "text/plain": [
       "'negative'"
      ]
     },
     "execution_count": 18,
     "metadata": {},
     "output_type": "execute_result"
    }
   ],
   "source": [
    "get_sentiment(\"Life is bad\")"
   ]
  },
  {
   "cell_type": "code",
   "execution_count": 6,
   "metadata": {},
   "outputs": [
    {
     "ename": "SyntaxError",
     "evalue": "invalid syntax (<ipython-input-6-7cc2fd9e1784>, line 8)",
     "output_type": "error",
     "traceback": [
      "\u001b[0;36m  File \u001b[0;32m\"<ipython-input-6-7cc2fd9e1784>\"\u001b[0;36m, line \u001b[0;32m8\u001b[0m\n\u001b[0;31m    'from=2017-12-07&'\u001b[0m\n\u001b[0m                     ^\u001b[0m\n\u001b[0;31mSyntaxError\u001b[0m\u001b[0;31m:\u001b[0m invalid syntax\n"
     ]
    }
   ],
   "source": [
    "print(type(url))\n",
    "player = input('input a player name: ')\n",
    "player = 'fantasy+football+' + player + '&'\n",
    "#url_start = 'https://newsapi.org/v2/everything?'\n",
    "#url_end = 'from=2017-12-07&''sortBy=relevance&''apiKey=0e584242425141bdbfa02d4d0af7f21b'\n",
    "input_url = ('https://newsapi.org/v2/everything?'\n",
    "       'q=%s' % (player)\n",
    "       'from=2017-12-07&'\n",
    "       'sortBy=relevance&'\n",
    "       'apiKey=0e584242425141bdbfa02d4d0af7f21b')\n",
    "response = requests.get(input_url)\n",
    "response.ok\n",
    "print(type(url_end))\n",
    "print(player)\n",
    "print(input_url)\n",
    "for item in response['articles']:\n",
    "    print(item['title'], item['url'])"
   ]
  },
  {
   "cell_type": "code",
   "execution_count": 33,
   "metadata": {},
   "outputs": [
    {
     "name": "stdout",
     "output_type": "stream",
     "text": [
      "<Response [401]>\n"
     ]
    }
   ],
   "source": [
    "fantasy_url ='https://api.mysportsfeeds.com/v1.1/pull/nfl/2017-regular/daily_player_stats.json?fordate=20171001&playerstats=Att,Comp,Yds,TD'\n",
    "fantasy_response = requests.get(fantasy_url)\n",
    "#fantasy_response = json.load(fantasy_response)\n",
    "print(fantasy_response)"
   ]
  },
  {
   "cell_type": "code",
   "execution_count": 9,
   "metadata": {},
   "outputs": [
    {
     "name": "stdout",
     "output_type": "stream",
     "text": [
      "{'status': 'ok', 'articles': [{'source': {'id': None, 'name': 'Espn.com'}, 'author': None, 'title': 'Love, Hate and the process', 'description': 'Matthew Berry reminds you that, in the fantasy playoffs, you need to trust the process over the results as he lays out the players he thinks will exceed or fall short of expectations this week.', 'url': 'http://www.espn.com/fantasy/football/story/_/page/TMRlovehate171207/fantasy-football-picks-sleepers-busts-week-14', 'urlToImage': 'http://a.espncdn.com/combiner/i?img=%2Fphoto%2F2017%2F1207%2Fr299752_1024x576_16%2D9.jpg', 'publishedAt': '2017-12-07T20:26:45Z'}, {'source': {'id': 'bleacher-report', 'name': 'Bleacher Report'}, 'author': 'Chris Roling', 'title': 'Fantasy Football Week 14 Rankings: Projections for Players with Matchups We Love', 'description': \"The NFL fantasy football realm didn't take long to show owners this year's playoffs would be brutally difficult. On the Week 14 edition of Thursday Night Football between the New Orleans Saints and Atlanta Falcons, the latter's Alvin Kamara went down with an …\", 'url': 'http://bleacherreport.com/articles/2748224-fantasy-football-week-14-rankings-projections-for-players-with-matchups-we-love', 'urlToImage': 'https://img.bleacherreport.net/img/images/photos/003/712/238/hi-res-8b999d219180dadc74b006ac2189bcf9_crop_exact.jpg?w=1200&h=1200&q=75', 'publishedAt': '2017-12-08T15:00:00Z'}, {'source': {'id': None, 'name': 'Yahoo.com'}, 'author': 'NBC Sports Washington', 'title': 'Fantasy Football -- Week 14 rankings', 'description': \"Samaje Perine or Rex Burkhead? Josh Gordon or Stefon Diggs? Start Dak Prescott at the Giants? These questions and more answered in Ben Standig's Week 14 fantasy football rankings.\", 'url': 'https://sports.yahoo.com/fantasy-football-week-14-rankings-001321039.html', 'urlToImage': 'https://s.yimg.com/uu/api/res/1.2/uIELNz5TmIGBvAmTMebEHA--~B/aD0zMjgwO3c9NDkyODtzbT0xO2FwcGlkPXl0YWNoeW9u/http://media.zenfs.com/en-US/homerun/csnwashington.com/99a14b138c5f07d542d3c724d28688a4', 'publishedAt': '2017-12-08T00:13:21Z'}, {'source': {'id': None, 'name': 'Philly.com'}, 'author': 'philly', 'title': 'Carson Wentz, Jared Goff, and other QBs linked together forever', 'description': \"Ed Barkowitz has played in a variety of fantasy sports leagues, but draws the line at fantasy NASCAR. He is a lifelong South Philadelphian, reared about a mile from the sports complex. He attended St. Joseph's Prep high school, and Villanova and Widener unive…\", 'url': 'http://www.philly.com/philly/sports/carson-wentz-jared-goff-donovan-mcnabb-tim-couch-drafted-peyton-manning-ryan-leaf-20171207.html', 'urlToImage': 'http://media.philly.com/images/dixon-281350-f-wp-content-uploads-2017-12-542353_8e62cacea607e91-e1512580251560-1200x801.jpg', 'publishedAt': '2017-12-07T09:12:00Z'}, {'source': {'id': None, 'name': 'Patspulpit.com'}, 'author': 'Pats Pulpit', 'title': 'How the Patriots passing and rushing offense is different with Rob Gronkowski suspended', 'description': \"New England Patriots tight end Rob Gronkowski is suspended for Monday's game against the Miami Dolphins and that will have a big impact on the Patriots offense. Whenever a team loses its second-best player, there will be a huge effect on the rest of the roste…\", 'url': 'https://www.patspulpit.com/2017/12/7/16741554/how-the-patriots-passing-and-rushing-offense-is-different-with-rob-gronkowski-suspended', 'urlToImage': 'https://cdn.vox-cdn.com/thumbor/pooieow8WSem_54EM_p1PR4xePU=/0x100:3902x2143/fit-in/1200x630/cdn.vox-cdn.com/uploads/chorus_asset/file/9821419/879678712.jpg.jpg', 'publishedAt': '2017-12-07T05:00:00Z'}, {'source': {'id': None, 'name': 'Yahoo.com'}, 'author': 'Rotoworld', 'title': \"Silva's Week 14 Matchups\", 'description': 'Evan Silva breaks down matchups for every fantasy-relevant player in every Week 14 game.', 'url': 'https://sports.yahoo.com/silvas-week-14-matchups-234700804--spt.html', 'urlToImage': 'https://s.yimg.com/uu/api/res/1.2/pLedLDekY3HuxrXIgpCjqQ--~B/aD0yMDA7dz0zMDA7c209MTthcHBpZD15dGFjaHlvbg--/http://media.zenfs.com/en_US/Sports/Rotoworld/NFL_Bernard3_300.jpg', 'publishedAt': '2017-12-07T23:47:00Z'}, {'source': {'id': 'the-washington-post', 'name': 'The Washington Post'}, 'author': 'Washington Post', 'title': 'Top-ranked Patriots are the smart pick again; Eagles should eke out win over Rams', 'description': 'The New England Patriots won their eighth game in a row on Sunday, beating the Buffalo Bills 23-3, giving them a commanding four-game lead in the AFC East. Overall, their offense is scoring a league-high 13.1 points per game more than expected after taking in…', 'url': 'https://www.washingtonpost.com/news/fancy-stats/wp/2017/12/07/top-ranked-patriots-are-the-smart-pick-again-eagles-should-eke-out-win-over-rams/', 'urlToImage': 'https://www.washingtonpost.com/rf/image_1484w/2010-2019/Wires/Images/2017-11-13/AP/Patriots_Broncos_Footall_26556-f70d8.jpg?t=20170517', 'publishedAt': '2017-12-07T15:54:00Z'}, {'source': {'id': None, 'name': 'Yahoo.com'}, 'author': 'Rotoworld', 'title': 'Week 14 Rankings', 'description': \"Patrick Daugherty breaks down all of Week 14's top plays, including RB2 Rex Burkhead.\", 'url': 'https://sports.yahoo.com/week-14-rankings-174400205--spt.html', 'urlToImage': 'https://s.yimg.com/ny/api/res/1.2/Iati9s6Y0Iwe.7fbVec9ew--/YXBwaWQ9aGlnaGxhbmRlcjt3PTMwMDtoPTIwMDtzbT0xO2lsPXBsYW5l/http://media.zenfs.com/en_US/Sports/Rotoworld/0NFL_Burkhead1_300.jpg', 'publishedAt': '2017-12-07T17:44:00Z'}, {'source': {'id': None, 'name': 'Si.com'}, 'author': 'Michael Beller', 'title': \"Fantasy Football Week 14 Start 'Em, Sit 'Em - Sports Illustrated\", 'description': \"Sports Illustrated Fantasy Football Week 14 Start 'Em, Sit 'Em Sports Illustrated Ravens RB Alex Collins has developed into a must-start for fantasy football owners—even against the Steelers this week, he should be in starting lineups. By Michael Beller. Dece…\", 'url': 'https://www.si.com/nfl/2017/12/07/fantasy-football-week-14-start-em-sit-em', 'urlToImage': 'https://imagesvc.timeincapp.com/v3/mm/image?url=https://cdn-s3.si.com/s3fs-public/2017/12/07/alex-collins-baltimore-ravens-fantasy.jpg&w=1200&h=628&c=sc&poi=face&q=85', 'publishedAt': '2017-12-07T14:54:33Z'}, {'source': {'id': None, 'name': 'Cbssports.com'}, 'author': 'Heath Cummings', 'title': 'Week 14 Fantasy Football DFS plays: Jameis Winston, Giovani Bernard offer big value', 'description': 'Heath Cummings says Jameis Winston and Giovani Bernard can help you fit in several stars this week. But are there any available on the main slate?', 'url': 'https://www.cbssports.com/fantasy/football/news/week-14-fantasy-football-dfs-plays-jameis-winston-giovani-bernard-offer-big-value/', 'urlToImage': 'https://sportshub.cbsistatic.com/i/r/2017/12/05/3e871210-4586-4c68-bcee-da0e1aba197b/thumbnail/770x433/1ec04c055c4a7305cd8d03ea0b5bfca7/giovani-bernard.jpg', 'publishedAt': '2017-12-09T17:49:14Z'}, {'source': {'id': 'bleacher-report', 'name': 'Bleacher Report'}, 'author': 'Richard Janvrin', 'title': 'Fantasy Football Week 14 Rankings: Latest Position-by-Position Rundown', 'description': \"Well, we're off to a not-so-great start in the first week of the fantasy football playoffs. The New Orleans Saints and Atlanta Falcons game was a battle featuring two terrible quarterback performances and injuries. The most notable injury was to rookie Saints…\", 'url': 'http://bleacherreport.com/articles/2748172-fantasy-football-week-14-rankings-latest-position-by-position-rundown', 'urlToImage': 'https://img.bleacherreport.net/img/images/photos/003/712/129/hi-res-71c42bd7c24e9c2ba55633959372ec46_crop_exact.jpg?w=1200&h=1200&q=75', 'publishedAt': '2017-12-09T12:00:04Z'}, {'source': {'id': 'bleacher-report', 'name': 'Bleacher Report'}, 'author': 'Richard Janvrin', 'title': \"Week 14 Start 'Em, Sit 'Em: Fantasy Football Stars to Play and Bench\", 'description': \"Thursday marks the first official day of Week 14 of the NFL fantasy football playoffs. The pressure is on. We'll get a game on Thursday Night Football between the New Orleans Saints and Atlanta Falcons featuring plenty of players on numerous rosters. Whether …\", 'url': 'http://bleacherreport.com/articles/2747974-week-14-start-em-sit-em-fantasy-football-stars-to-play-and-bench', 'urlToImage': 'https://img.bleacherreport.net/img/images/photos/003/711/917/hi-res-ce601fac7bbc63daa7359b82bc06c61a_crop_exact.jpg?w=1200&h=1200&q=75', 'publishedAt': '2017-12-07T17:00:00Z'}, {'source': {'id': 'bleacher-report', 'name': 'Bleacher Report'}, 'author': 'Chris Roling', 'title': \"Start 'Em, Sit 'Em Week 14: Debating Difficult Fantasy Football Lineup Decisions\", 'description': \"The NFL never said fantasy football playoffs would be easy. Most standard leagues fire up the postseason in Week 14, and for those still alive, it's one of the tougher weeks of the entire season. Not only do owners have a ton at stake while facing an unpredic…\", 'url': 'http://bleacherreport.com/articles/2748358-start-em-sit-em-week-14-debating-difficult-fantasy-football-lineup-decisions', 'urlToImage': 'https://img.bleacherreport.net/img/images/photos/003/712/413/hi-res-e1c20ee82b167e34bc7777d7328ceafb_crop_exact.jpg?w=1200&h=1200&q=75', 'publishedAt': '2017-12-09T17:00:00Z'}, {'source': {'id': None, 'name': 'Rotoworld.com'}, 'author': None, 'title': 'Last Minute Decisions: Injury Report: Week 14', 'description': 'Raymond Summerlin checks in on Matthew Stafford, Amari Cooper, and the biggest fantasy names on the Week 14 injury report.', 'url': 'http://rotoworld.com/articles/nfl/76425/78/injury-report-week-14', 'urlToImage': 'http://www.rotoworld.com/images/photos/NFL/DET/0NFL_Stafford1_300.jpg', 'publishedAt': '2017-12-09T09:16:00Z'}, {'source': {'id': None, 'name': 'Rotoworld.com'}, 'author': None, 'title': \"Matchups: Silva's Week 14 Matchups\", 'description': 'Evan Silva breaks down matchups for every fantasy-relevant player in every Week 14 game.', 'url': 'http://rotoworld.com/articles/nfl/76397/179/silvas-week-14-matchups', 'urlToImage': 'http://www.rotoworld.com/images/photos/NFL/CIN/NFL_Bernard3_300.jpg', 'publishedAt': '2017-12-07T23:47:00Z'}, {'source': {'id': None, 'name': 'Rotoworld.com'}, 'author': None, 'title': 'Goal Line Stand: Week 14 Rankings', 'description': \"Patrick Daugherty breaks down all of Week 14's top plays, including RB2 Rex Burkhead.\", 'url': 'http://rotoworld.com/articles/nfl/76389/57/week-14-rankings', 'urlToImage': 'http://www.rotoworld.com/images/photos/NFL/NE/0NFL_Burkhead1_300.jpg', 'publishedAt': '2017-12-07T17:44:00Z'}, {'source': {'id': None, 'name': 'Profootballweekly.com'}, 'author': '', 'title': 'Fantasy Football: Week 14 matchups to avoid and exploit', 'description': 'How many Patriots are too many this week?MATCHUPS TO EXPLOITBuccaneers (vs. Lions)Peyton Barber or D…', 'url': 'http://www.profootballweekly.com/lists/2017/12/07/540ccd004ef740158f3681753c35a75a/index.xml', 'urlToImage': 'https://bloximages.newyork1.vip.townnews.com/stltoday.com/content/tncms/assets/v3/editorial/3/1d/31d4fedf-0624-5075-94c5-73a2440c5ede/5a295f01340ea.image.jpg?crop=1024%2C576%2C0%2C53&resize=1024%2C576&order=crop%2Cresize', 'publishedAt': '2017-12-07T14:32:00Z'}]}\n"
     ]
    }
   ],
   "source": [
    "print(response)"
   ]
  },
  {
   "cell_type": "code",
   "execution_count": null,
   "metadata": {
    "collapsed": true
   },
   "outputs": [],
   "source": []
  },
  {
   "cell_type": "code",
   "execution_count": null,
   "metadata": {
    "collapsed": true
   },
   "outputs": [],
   "source": []
  },
  {
   "cell_type": "code",
   "execution_count": null,
   "metadata": {
    "collapsed": true
   },
   "outputs": [],
   "source": []
  }
 ],
 "metadata": {
  "kernelspec": {
   "display_name": "Python 3",
   "language": "python",
   "name": "python3"
  },
  "language_info": {
   "codemirror_mode": {
    "name": "ipython",
    "version": 3
   },
   "file_extension": ".py",
   "mimetype": "text/x-python",
   "name": "python",
   "nbconvert_exporter": "python",
   "pygments_lexer": "ipython3",
   "version": "3.6.1"
  }
 },
 "nbformat": 4,
 "nbformat_minor": 2
}
